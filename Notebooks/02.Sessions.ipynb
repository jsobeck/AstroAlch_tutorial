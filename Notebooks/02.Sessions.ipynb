{
 "cells": [
  {
   "cell_type": "markdown",
   "metadata": {},
   "source": [
    "# Tutorial 2: Interacting with Databases in Sessions\n",
    "\n",
    "In this tutorial we will create and then interact with a *relational* SQLite database, using `sqlalchemy`'s `Session` object.\n",
    "\n",
    "We will:\n",
    "\n",
    "* Create a relational database containing two linked tables: \"Objects\" (with ID, ra and dec) and \"Distances\" (with ID and distance).\n",
    "* Retrieve data into numpy arrays so that it can be used For Science.\n",
    "\n",
    "This tutorial was adapted for astronomy from [the one at `pythoncentral.io`](http://pythoncentral.io/introductory-tutorial-python-sqlalchemy/).\n",
    "\n",
    "### Requirements\n",
    "\n",
    "You will need to have `sqlalchemy` installed.\n",
    "```\n",
    "pip install sqlalchemy\n",
    "```"
   ]
  },
  {
   "cell_type": "code",
   "execution_count": 1,
   "metadata": {
    "collapsed": true
   },
   "outputs": [],
   "source": [
    "import sqlalchemy as sq\n",
    "import os\n",
    "import numpy as np\n",
    "import random"
   ]
  },
  {
   "cell_type": "markdown",
   "metadata": {},
   "source": [
    "In the previous tutorial, we used a somewhat manual approach where we separately defined a Table in a database, a mapper that would connect a python object to the database, and the python object itself. This is tedious.\n",
    "\n",
    "In this tutorial, we will use an alternative approach: declaratives. The advantage of using declaratives is that they allow us to define `Table`, mappers and python objects at once in a class definition. Let's see."
   ]
  },
  {
   "cell_type": "code",
   "execution_count": 2,
   "metadata": {
    "collapsed": true
   },
   "outputs": [],
   "source": [
    "from sqlalchemy.ext.declarative import declarative_base"
   ]
  },
  {
   "cell_type": "markdown",
   "metadata": {},
   "source": [
    "## Creating Database"
   ]
  },
  {
   "cell_type": "markdown",
   "metadata": {},
   "source": [
    "Initialize a declarative."
   ]
  },
  {
   "cell_type": "code",
   "execution_count": 3,
   "metadata": {
    "collapsed": true
   },
   "outputs": [],
   "source": [
    "Base = declarative_base()"
   ]
  },
  {
   "cell_type": "markdown",
   "metadata": {},
   "source": [
    "Now, we create Python class objects for two linked tables: \"Objects\" and \"Distances\". When these classes are defined (or imported), a database table is initialized for each one (if it has not been already)."
   ]
  },
  {
   "cell_type": "code",
   "execution_count": 4,
   "metadata": {
    "collapsed": false
   },
   "outputs": [],
   "source": [
    "class Object(Base):\n",
    "    __tablename__ = 'object'\n",
    "    \n",
    "    # Define columns like we did in the last notebook\n",
    "    id = sq.Column(sq.Integer, primary_key=True)\n",
    "    ra = sq.Column(sq.Float, nullable=False)\n",
    "    dec = sq.Column(sq.Float, nullable=False)\n",
    "\n",
    "    \n",
    "class Distance(Base):\n",
    "    __tablename__ = 'distance'\n",
    "    \n",
    "    # Again define columns like above. These columns\n",
    "    # are normal python instance attributes.\n",
    "    id = sq.Column(sq.Integer, primary_key=True)\n",
    "    object_id = sq.Column(sq.Integer, sq.ForeignKey(\"object.id\"), nullable=False)\n",
    "    distance = sq.Column(sq.Float, nullable=False)"
   ]
  },
  {
   "cell_type": "markdown",
   "metadata": {},
   "source": [
    "Create a local engine to store data, and remove one if it already exists."
   ]
  },
  {
   "cell_type": "code",
   "execution_count": 5,
   "metadata": {
    "collapsed": true
   },
   "outputs": [],
   "source": [
    "dbfile = 'sessions.db'\n",
    "\n",
    "try: os.remove(dbfile)\n",
    "except: pass"
   ]
  },
  {
   "cell_type": "code",
   "execution_count": 6,
   "metadata": {
    "collapsed": false
   },
   "outputs": [],
   "source": [
    "engine = sq.create_engine('sqlite:///'+dbfile)"
   ]
  },
  {
   "cell_type": "markdown",
   "metadata": {},
   "source": [
    "Now, create tables in the database that we defined above."
   ]
  },
  {
   "cell_type": "code",
   "execution_count": 7,
   "metadata": {
    "collapsed": false
   },
   "outputs": [],
   "source": [
    "Base.metadata.create_all(engine)"
   ]
  },
  {
   "cell_type": "markdown",
   "metadata": {},
   "source": [
    "Check the size of database. It is filled with metadata, but there aren't any entries yet."
   ]
  },
  {
   "cell_type": "code",
   "execution_count": 8,
   "metadata": {
    "collapsed": false
   },
   "outputs": [
    {
     "name": "stdout",
     "output_type": "stream",
     "text": [
      "   12288 sessions.db\r\n"
     ]
    }
   ],
   "source": [
    "!wc -c $dbfile"
   ]
  },
  {
   "cell_type": "markdown",
   "metadata": {},
   "source": [
    "## Inserting Data"
   ]
  },
  {
   "cell_type": "markdown",
   "metadata": {},
   "source": [
    "For all the subequent operations (insert, update, delete, etc.), we are going to use a `sessionmaker` that establishes all conversations with the database. A session represents a 'stagging zone' for all the objects loaded into the database, just like in git. Any changes won't be persisted into the database until they are committed.\n",
    "\n",
    "Notice that we use ORM module of sqlalchemy to import sessionmaker. ORM stands for Object-relational mapping and is a technique to make relational data compatible with object oriented languages."
   ]
  },
  {
   "cell_type": "code",
   "execution_count": 9,
   "metadata": {
    "collapsed": false
   },
   "outputs": [],
   "source": [
    "from sqlalchemy.orm import sessionmaker"
   ]
  },
  {
   "cell_type": "markdown",
   "metadata": {},
   "source": [
    "Bind the engine to the metadata of the Base class so that the declaratives can be accessed through a DBSession instance."
   ]
  },
  {
   "cell_type": "code",
   "execution_count": 10,
   "metadata": {
    "collapsed": true
   },
   "outputs": [],
   "source": [
    "Base.metadata.bind = engine"
   ]
  },
  {
   "cell_type": "code",
   "execution_count": 11,
   "metadata": {
    "collapsed": true
   },
   "outputs": [],
   "source": [
    "DBSession = sessionmaker(bind=engine)"
   ]
  },
  {
   "cell_type": "code",
   "execution_count": 12,
   "metadata": {
    "collapsed": true
   },
   "outputs": [],
   "source": [
    "session = DBSession()"
   ]
  },
  {
   "cell_type": "markdown",
   "metadata": {},
   "source": [
    "Insert K new objects into the database. Each one has an `ra` and `dec` value, and is understood to be inserted as a row in the \"object\" table. If the `id` is not supplied, it is set to be the next integer in the sequence, starting from 1 (not zero!)."
   ]
  },
  {
   "cell_type": "code",
   "execution_count": 13,
   "metadata": {
    "collapsed": true
   },
   "outputs": [],
   "source": [
    "K = 1000"
   ]
  },
  {
   "cell_type": "code",
   "execution_count": 14,
   "metadata": {
    "collapsed": false
   },
   "outputs": [],
   "source": [
    "for i in range(K):\n",
    "    ra = random.uniform(9.0, 11.0)\n",
    "    dec = random.uniform(-30.0, -33.0)\n",
    "    # Make the new object, with id implicitly set to be i+1: \n",
    "    new_object = Object(ra=ra, dec=dec)\n",
    "    # Add it to the transaction list:\n",
    "    session.add(new_object)\n",
    "\n",
    "# Carry out the transaction, writing all new records into the database:    \n",
    "session.commit()"
   ]
  },
  {
   "cell_type": "markdown",
   "metadata": {},
   "source": [
    "Create a distance record for each object we inserted above."
   ]
  },
  {
   "cell_type": "code",
   "execution_count": 15,
   "metadata": {
    "collapsed": false
   },
   "outputs": [],
   "source": [
    "for i in range(K):\n",
    "    id = i + 1\n",
    "    d = random.uniform(40, 60)\n",
    "    # Set up the distance ready for ingestion, with object_id matched to the object id - note the +1! \n",
    "    new_distance = Distance(distance=d, object_id=id)\n",
    "    session.add(new_distance)\n",
    "session.commit()"
   ]
  },
  {
   "cell_type": "markdown",
   "metadata": {},
   "source": [
    "The database file should be bigger now:"
   ]
  },
  {
   "cell_type": "code",
   "execution_count": 16,
   "metadata": {
    "collapsed": false
   },
   "outputs": [
    {
     "name": "stdout",
     "output_type": "stream",
     "text": [
      "   61440 sessions.db\r\n"
     ]
    }
   ],
   "source": [
    "!wc -c $dbfile"
   ]
  },
  {
   "cell_type": "markdown",
   "metadata": {},
   "source": [
    "## Querying Data"
   ]
  },
  {
   "cell_type": "markdown",
   "metadata": {},
   "source": [
    "Make a query for the first object in the database and see its attributes."
   ]
  },
  {
   "cell_type": "code",
   "execution_count": 17,
   "metadata": {
    "collapsed": false
   },
   "outputs": [
    {
     "data": {
      "text/plain": [
       "(1, 9.105568084282915, -30.583423614884907)"
      ]
     },
     "execution_count": 17,
     "metadata": {},
     "output_type": "execute_result"
    }
   ],
   "source": [
    "first_object = session.query(Object).first()\n",
    "first_object.id, first_object.ra, first_object.dec"
   ]
  },
  {
   "cell_type": "markdown",
   "metadata": {},
   "source": [
    "Retrieve all distances in form of a numpy array. "
   ]
  },
  {
   "cell_type": "code",
   "execution_count": 18,
   "metadata": {
    "collapsed": false
   },
   "outputs": [
    {
     "name": "stdout",
     "output_type": "stream",
     "text": [
      "[ 40.71564151  51.54109295  50.75183895  48.84103562  58.83610313\n",
      "  45.00060216  47.8804096   53.45665911  52.73332629  42.40836338\n",
      "  42.1308022   40.33939697  48.89663337  40.69657645  59.62243992\n",
      "  58.6645868   55.0334798   43.69656865  57.49751482  48.19858652]\n"
     ]
    }
   ],
   "source": [
    "# Get the complete list of Distance objects:\n",
    "all_distances = session.query(Distance)\n",
    "# Unpack into a numpy array:\n",
    "d_array = np.array([d.distance for d in all_distances])\n",
    "print d_array[0:20]"
   ]
  },
  {
   "cell_type": "markdown",
   "metadata": {},
   "source": [
    "Apply `filter()` method after a query to get specific results."
   ]
  },
  {
   "cell_type": "code",
   "execution_count": 19,
   "metadata": {
    "collapsed": false
   },
   "outputs": [
    {
     "name": "stdout",
     "output_type": "stream",
     "text": [
      "59.642416899\n"
     ]
    }
   ],
   "source": [
    "d = session.query(Distance).filter(Distance.object_id==80).one_or_none()\n",
    "print d.distance"
   ]
  },
  {
   "cell_type": "code",
   "execution_count": 20,
   "metadata": {
    "collapsed": false
   },
   "outputs": [
    {
     "name": "stdout",
     "output_type": "stream",
     "text": [
      "[ 40.07859662  40.00959001  40.02131525  40.00553749  40.07226964\n",
      "  40.08372338  40.08191507]\n"
     ]
    }
   ],
   "source": [
    "# Get a list of Distance objects with distance < 40.1 kpc:\n",
    "small_distances = session.query(Distance).filter(Distance.distance < 40.1).all()\n",
    "# Unpack into a numpy array:\n",
    "low_d_array = np.array([d.distance for d in small_distances])\n",
    "print low_d_array"
   ]
  },
  {
   "cell_type": "markdown",
   "metadata": {},
   "source": [
    "We can also read tables into `pandas` dataframes, for convenience:"
   ]
  },
  {
   "cell_type": "code",
   "execution_count": 21,
   "metadata": {
    "collapsed": false
   },
   "outputs": [
    {
     "data": {
      "text/html": [
       "<div>\n",
       "<table border=\"1\" class=\"dataframe\">\n",
       "  <thead>\n",
       "    <tr style=\"text-align: right;\">\n",
       "      <th></th>\n",
       "      <th>id</th>\n",
       "      <th>object_id</th>\n",
       "      <th>distance</th>\n",
       "    </tr>\n",
       "  </thead>\n",
       "  <tbody>\n",
       "    <tr>\n",
       "      <th>0</th>\n",
       "      <td>55</td>\n",
       "      <td>55</td>\n",
       "      <td>40.078597</td>\n",
       "    </tr>\n",
       "    <tr>\n",
       "      <th>1</th>\n",
       "      <td>166</td>\n",
       "      <td>166</td>\n",
       "      <td>40.009590</td>\n",
       "    </tr>\n",
       "    <tr>\n",
       "      <th>2</th>\n",
       "      <td>419</td>\n",
       "      <td>419</td>\n",
       "      <td>40.021315</td>\n",
       "    </tr>\n",
       "    <tr>\n",
       "      <th>3</th>\n",
       "      <td>545</td>\n",
       "      <td>545</td>\n",
       "      <td>40.005537</td>\n",
       "    </tr>\n",
       "    <tr>\n",
       "      <th>4</th>\n",
       "      <td>790</td>\n",
       "      <td>790</td>\n",
       "      <td>40.072270</td>\n",
       "    </tr>\n",
       "  </tbody>\n",
       "</table>\n",
       "</div>"
      ],
      "text/plain": [
       "    id  object_id   distance\n",
       "0   55         55  40.078597\n",
       "1  166        166  40.009590\n",
       "2  419        419  40.021315\n",
       "3  545        545  40.005537\n",
       "4  790        790  40.072270"
      ]
     },
     "execution_count": 21,
     "metadata": {},
     "output_type": "execute_result"
    }
   ],
   "source": [
    "import pandas as pd\n",
    "df = pd.read_sql(session.query(Distance).filter(Distance.distance < 40.1).statement, session.bind)\n",
    "df.head()"
   ]
  },
  {
   "cell_type": "markdown",
   "metadata": {},
   "source": [
    "## Joining Two Tables\n",
    "\n",
    "The \"distance\" table can be joined to the \"object\" table via the `object_id` foreign key. We can query for objects and their distances in a number of ways. Notice that if we want both object positions and distance we need to query both tables at the same time.\n",
    "\n",
    "First, let's associate the IDs manually:"
   ]
  },
  {
   "cell_type": "code",
   "execution_count": 22,
   "metadata": {
    "collapsed": false
   },
   "outputs": [
    {
     "name": "stdout",
     "output_type": "stream",
     "text": [
      "55 9.12395708097 -30.6363808189 40.0785966214 55 55\n",
      "166 9.99104740738 -30.7407458323 40.0095900075 166 166\n",
      "419 9.44818681499 -30.7924035242 40.0213152496 419 419\n",
      "545 10.0686130905 -32.9475028787 40.0055374938 545 545\n",
      "790 10.8253220655 -32.1530747425 40.0722696372 790 790\n",
      "893 10.4633925917 -32.2714083002 40.0837233819 893 893\n",
      "964 9.29299441856 -30.6329805629 40.0819150735 964 964\n"
     ]
    }
   ],
   "source": [
    "for o, d in session.query(Object, Distance).filter(Object.id==Distance.object_id).filter(Distance.distance < 40.1).all():\n",
    "    print o.id, o.ra, o.dec, d.distance, d.id, d.object_id"
   ]
  },
  {
   "cell_type": "markdown",
   "metadata": {},
   "source": [
    "Compare this with the `join` command:"
   ]
  },
  {
   "cell_type": "code",
   "execution_count": 23,
   "metadata": {
    "collapsed": false
   },
   "outputs": [
    {
     "name": "stdout",
     "output_type": "stream",
     "text": [
      "55 9.12395708097 -30.6363808189 40.0785966214 55 55\n",
      "166 9.99104740738 -30.7407458323 40.0095900075 166 166\n",
      "419 9.44818681499 -30.7924035242 40.0213152496 419 419\n",
      "545 10.0686130905 -32.9475028787 40.0055374938 545 545\n",
      "790 10.8253220655 -32.1530747425 40.0722696372 790 790\n",
      "893 10.4633925917 -32.2714083002 40.0837233819 893 893\n",
      "964 9.29299441856 -30.6329805629 40.0819150735 964 964\n"
     ]
    }
   ],
   "source": [
    "for o, d in session.query(Object, Distance).join(Distance).filter(Distance.distance < 40.1).all():\n",
    "    print o.id, o.ra, o.dec, d.distance, d.id, d.object_id"
   ]
  },
  {
   "cell_type": "markdown",
   "metadata": {},
   "source": [
    "The above query works because we defined `object.id` as a foreign key for the `distance` table. If we had not done this, we could still join the tables manually with the following:"
   ]
  },
  {
   "cell_type": "code",
   "execution_count": 24,
   "metadata": {
    "collapsed": false
   },
   "outputs": [
    {
     "name": "stdout",
     "output_type": "stream",
     "text": [
      "55 9.12395708097 -30.6363808189 40.0785966214 55 55\n",
      "166 9.99104740738 -30.7407458323 40.0095900075 166 166\n",
      "419 9.44818681499 -30.7924035242 40.0213152496 419 419\n",
      "545 10.0686130905 -32.9475028787 40.0055374938 545 545\n",
      "790 10.8253220655 -32.1530747425 40.0722696372 790 790\n",
      "893 10.4633925917 -32.2714083002 40.0837233819 893 893\n",
      "964 9.29299441856 -30.6329805629 40.0819150735 964 964\n"
     ]
    }
   ],
   "source": [
    "for o, d in session.query(Object, Distance).join(Distance, Object.id==Distance.object_id).filter(Distance.distance < 40.1).all():\n",
    "    print o.id, o.ra, o.dec, d.distance, d.id, d.object_id"
   ]
  },
  {
   "cell_type": "markdown",
   "metadata": {},
   "source": [
    "## Clean up"
   ]
  },
  {
   "cell_type": "code",
   "execution_count": 25,
   "metadata": {
    "collapsed": true
   },
   "outputs": [],
   "source": [
    "try: os.remove(dbfile)\n",
    "except: pass"
   ]
  }
 ],
 "metadata": {
  "kernelspec": {
   "display_name": "Python 2",
   "language": "python",
   "name": "python2"
  },
  "language_info": {
   "codemirror_mode": {
    "name": "ipython",
    "version": 2
   },
   "file_extension": ".py",
   "mimetype": "text/x-python",
   "name": "python",
   "nbconvert_exporter": "python",
   "pygments_lexer": "ipython2",
   "version": "2.7.12"
  }
 },
 "nbformat": 4,
 "nbformat_minor": 0
}
